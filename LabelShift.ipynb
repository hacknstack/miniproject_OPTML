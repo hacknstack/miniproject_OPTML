{
 "cells": [
  {
   "cell_type": "code",
   "execution_count": 24,
   "id": "ff48ec6a-8760-4059-93d8-3941b871a991",
   "metadata": {},
   "outputs": [],
   "source": [
    "from scipy.io import loadmat\n",
    "from utils import *\n",
    "data = loadmat('emnist-digits.mat')"
   ]
  },
  {
   "cell_type": "code",
   "execution_count": 10,
   "id": "00905d30-b071-4b7d-99b1-64266e8e742b",
   "metadata": {},
   "outputs": [],
   "source": [
    "import matplotlib.pyplot as plt\n",
    "import numpy as np\n"
   ]
  },
  {
   "cell_type": "code",
   "execution_count": 11,
   "id": "38e6610d-be6a-4158-86a4-1d35b573b187",
   "metadata": {},
   "outputs": [],
   "source": [
    "dataset = data['dataset'][0, 0]\n",
    "train = dataset[0][0, 0]  \n",
    "test = dataset[1][0, 0]  \n",
    "mapping = dataset[2]\n",
    "\n",
    "train_images = train['images']   # Shape: (N, 28*28)\n",
    "train_labels = train['labels']  # Shape: (N, 1)\n",
    "train_writers = train['writers']"
   ]
  },
  {
   "cell_type": "code",
   "execution_count": 12,
   "id": "4714ba0d-3b54-4b1a-9723-3cdd6e691cd6",
   "metadata": {},
   "outputs": [],
   "source": [
    "X = train_images.astype(np.float32) / 255.0  # Normalize to [0, 1]\n",
    "y = train_labels.flatten().astype(np.int64)\n",
    "\n",
    "# Wrap into a datalist with a single client\n",
    "datalist = [(X, y)]\n",
    "\n",
    "test_images = test['images'].astype(np.float32) / 255.0\n",
    "test_labels = test['labels'].flatten().astype(np.int64)"
   ]
  },
  {
   "cell_type": "code",
   "execution_count": 13,
   "id": "9f34fb4c-7cca-478b-ace6-8543de11ff7a",
   "metadata": {},
   "outputs": [],
   "source": [
    "from labels_utils import *"
   ]
  },
  {
   "cell_type": "code",
   "execution_count": 14,
   "id": "f366af4a-1dcc-4073-8f32-89e997c7d80a",
   "metadata": {},
   "outputs": [
    {
     "name": "stdout",
     "output_type": "stream",
     "text": [
      "now training the baseline, i.e. fedAvg with one client holding all the data\n",
      "round :  1\n",
      "round :  2\n",
      "round :  3\n",
      "round :  4\n",
      "round :  5\n"
     ]
    }
   ],
   "source": [
    "\n",
    "# Hyperparameters\n",
    "T = 5       # number of global rounds\n",
    "K = 10      # number of client GD steps\n",
    "gamma = 0.1 # learning rate\n",
    "\n",
    "# Run FedAvg with 1 client\n",
    "print(\"now training the baseline, i.e. fedAvg with one client holding all the data\")\n",
    "model = fedavg(datalist, T, K, gamma)\n"
   ]
  },
  {
   "cell_type": "code",
   "execution_count": 15,
   "id": "93104499-2f8e-47ca-a101-6d8481a0a12d",
   "metadata": {},
   "outputs": [
    {
     "name": "stdout",
     "output_type": "stream",
     "text": [
      "Test Accuracy: 84.80%\n"
     ]
    }
   ],
   "source": [
    "\n",
    "test_accuracy = evaluate(model, test_images, test_labels)\n",
    "print(f\"Test Accuracy: {test_accuracy * 100:.2f}%\")"
   ]
  },
  {
   "cell_type": "code",
   "execution_count": 16,
   "id": "553cc35f-7e84-4377-86af-e47023832dfc",
   "metadata": {},
   "outputs": [
    {
     "name": "stdout",
     "output_type": "stream",
     "text": [
      "case with 5 clients, beta=0.5 skewed distribution!\n",
      "round :  1\n",
      "round :  2\n",
      "round :  3\n",
      "round :  4\n",
      "round :  5\n"
     ]
    }
   ],
   "source": [
    "n_clients = 5\n",
    "beta = 0.5 \n",
    "datalist = create_dirichlet_clients(X, y, n_clients, beta)\n",
    "\n",
    "# Hyperparameters\n",
    "T = 5       # number of global rounds\n",
    "K = 10      # number of client GD steps\n",
    "gamma = 0.1 # learning rate\n",
    "print(\"case with 5 clients, beta=0.5 skewed distribution!\")\n",
    "model = fedavg(datalist, T, K, gamma)\n",
    "\n"
   ]
  },
  {
   "cell_type": "code",
   "execution_count": 17,
   "id": "c9b636ec-9a2a-4b33-847c-e4926530ea4d",
   "metadata": {},
   "outputs": [
    {
     "name": "stdout",
     "output_type": "stream",
     "text": [
      "Test Accuracy with 5 clients and Dir(0.5): 74.37%\n"
     ]
    }
   ],
   "source": [
    "# Evaluate\n",
    "test_accuracy = evaluate(model, test_images, test_labels)\n",
    "print(f\"Test Accuracy with {n_clients} clients and Dir({beta}): {test_accuracy * 100:.2f}%\")"
   ]
  },
  {
   "cell_type": "code",
   "execution_count": 18,
   "id": "61859fa6-aa3d-46ad-84a3-815b447f05d2",
   "metadata": {},
   "outputs": [
    {
     "name": "stdout",
     "output_type": "stream",
     "text": [
      "case with 5 clients, beta=10^5, which means close to IID clients (baseline 2)!\n",
      "round :  1\n",
      "round :  2\n",
      "round :  3\n",
      "round :  4\n",
      "round :  5\n"
     ]
    }
   ],
   "source": [
    "n_clients = 5\n",
    "beta = 1e5\n",
    "datalist = create_dirichlet_clients(X, y, n_clients, beta)\n",
    "\n",
    "# Hyperparameters\n",
    "T = 5       # number of global rounds\n",
    "K = 10      # number of client GD steps\n",
    "gamma = 0.1 # learning rate\n",
    "print(\"case with 5 clients, beta=10^5, which means close to IID clients (baseline 2)!\")\n",
    "model = fedavg(datalist, T, K, gamma)\n"
   ]
  },
  {
   "cell_type": "code",
   "execution_count": 19,
   "id": "7956a33e-da06-4fb5-a6cf-c5b5db3fe46a",
   "metadata": {},
   "outputs": [
    {
     "name": "stdout",
     "output_type": "stream",
     "text": [
      "Test Accuracy with 5 clients and Dir(100000.0): 84.07%\n"
     ]
    }
   ],
   "source": [
    "# Evaluate\n",
    "test_accuracy = evaluate(model, test_images, test_labels)\n",
    "print(f\"Test Accuracy with {n_clients} clients and Dir({beta}): {test_accuracy * 100:.2f}%\")"
   ]
  },
  {
   "cell_type": "code",
   "execution_count": 20,
   "id": "90fe6071-cfb2-4c4a-9a12-63f7cfc19188",
   "metadata": {},
   "outputs": [
    {
     "name": "stdout",
     "output_type": "stream",
     "text": [
      "case with 5 clients, beta=0.5 skewed distribution, with weights based on the inverse KL-divergence\n",
      "round :  1\n",
      "round :  2\n",
      "round :  3\n",
      "round :  4\n",
      "round :  5\n"
     ]
    }
   ],
   "source": [
    "n_clients = 5\n",
    "beta = 0.5 \n",
    "datalist = create_dirichlet_clients(X, y, n_clients, beta)\n",
    "\n",
    "# Hyperparameters\n",
    "T = 5       # number of global rounds\n",
    "K = 10      # number of client GD steps\n",
    "gamma = 0.1 # learning rate\n",
    "print(\"case with 5 clients, beta=0.5 skewed distribution, with weights based on the inverse KL-divergence\")\n",
    "weights = compute_inverse_kl_weights(datalist)\n",
    "model = fedavg(datalist, T=5, K=10, gamma=0.1, weights=weights)\n"
   ]
  },
  {
   "cell_type": "code",
   "execution_count": 21,
   "id": "4b957960-3f94-4d37-be22-53d095889896",
   "metadata": {},
   "outputs": [
    {
     "name": "stdout",
     "output_type": "stream",
     "text": [
      "0.6942750215530396\n"
     ]
    }
   ],
   "source": [
    "test_accuracy = evaluate(model, test_images, test_labels)\n",
    "print(test_accuracy)"
   ]
  },
  {
   "cell_type": "markdown",
   "id": "f5fd0ff9",
   "metadata": {},
   "source": [
    "### Testing the Moon Federated learning on the same dataset"
   ]
  },
  {
   "cell_type": "code",
   "execution_count": 26,
   "id": "8b0e6717",
   "metadata": {},
   "outputs": [],
   "source": [
    "import importlib\n",
    "import utils\n",
    "importlib.reload(utils)\n",
    "from utils import *"
   ]
  },
  {
   "cell_type": "code",
   "execution_count": 30,
   "id": "26d68b2f",
   "metadata": {},
   "outputs": [],
   "source": [
    "n_clients = 5\n",
    "beta = 0.5 \n",
    "datalist = create_dirichlet_clients(X, y, n_clients, beta)"
   ]
  },
  {
   "cell_type": "code",
   "execution_count": 31,
   "id": "92eb0487-ea0f-4437-9bac-218a5bd4d0c9",
   "metadata": {},
   "outputs": [],
   "source": [
    "model, loss_curve = fedavg_moon(datalist, T=5, K=10, gamma=0.1, mu=0.5)\n"
   ]
  },
  {
   "cell_type": "code",
   "execution_count": 29,
   "id": "e03b09c3",
   "metadata": {},
   "outputs": [
    {
     "name": "stdout",
     "output_type": "stream",
     "text": [
      "0.8203250169754028\n"
     ]
    }
   ],
   "source": [
    "test_accuracy = evaluate(model, test_images, test_labels)\n",
    "print(test_accuracy)"
   ]
  },
  {
   "cell_type": "code",
   "execution_count": null,
   "id": "53d22625",
   "metadata": {},
   "outputs": [],
   "source": []
  }
 ],
 "metadata": {
  "kernelspec": {
   "display_name": "base",
   "language": "python",
   "name": "python3"
  },
  "language_info": {
   "codemirror_mode": {
    "name": "ipython",
    "version": 3
   },
   "file_extension": ".py",
   "mimetype": "text/x-python",
   "name": "python",
   "nbconvert_exporter": "python",
   "pygments_lexer": "ipython3",
   "version": "3.12.7"
  }
 },
 "nbformat": 4,
 "nbformat_minor": 5
}
