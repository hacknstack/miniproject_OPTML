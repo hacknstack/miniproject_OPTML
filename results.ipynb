{
 "cells": [
  {
   "cell_type": "code",
   "execution_count": null,
   "metadata": {},
   "outputs": [],
   "source": [
    "from scipy.io import loadmat\n",
    "from utils import *\n",
    "data = loadmat('emnist-digits.mat')\n",
    "import matplotlib.pyplot as plt\n",
    "import numpy as np\n",
    "from labels_utils import *\n",
    "from features_utils import *"
   ]
  },
  {
   "cell_type": "code",
   "execution_count": 5,
   "metadata": {},
   "outputs": [],
   "source": [
    "dataset = data['dataset'][0, 0]\n",
    "train = dataset[0][0, 0]  \n",
    "test = dataset[1][0, 0]  \n",
    "mapping = dataset[2]\n",
    "\n",
    "train_images = train['images']   # Shape: (N, 28*28)\n",
    "train_labels = train['labels']  # Shape: (N, 1)\n",
    "train_writers = train['writers']\n",
    "\n",
    "X = train_images.astype(np.float32) / 255.0  # Normalize to [0, 1]\n",
    "y = train_labels.flatten().astype(np.int64)\n",
    "\n",
    "# Wrap into a datalist with a single client\n",
    "datalist = [(X, y)]\n",
    "\n",
    "test_images = test['images'].astype(np.float32) / 255.0\n",
    "test_labels = test['labels'].flatten().astype(np.int64)"
   ]
  },
  {
   "cell_type": "code",
   "execution_count": 58,
   "metadata": {},
   "outputs": [],
   "source": [
    "### Defined global Hyperparameters\n",
    "T = 30      # number of global rounds\n",
    "K = 5      # number of client GD steps\n",
    "gamma = 0.05 # learning rate"
   ]
  },
  {
   "cell_type": "markdown",
   "metadata": {},
   "source": [
    "# Baseline FedAvg\n"
   ]
  },
  {
   "cell_type": "markdown",
   "metadata": {},
   "source": [
    "### FedAvg results"
   ]
  },
  {
   "cell_type": "markdown",
   "metadata": {},
   "source": [
    "With only 1 client holding all the data"
   ]
  },
  {
   "cell_type": "code",
   "execution_count": 54,
   "metadata": {},
   "outputs": [
    {
     "name": "stdout",
     "output_type": "stream",
     "text": [
      "now training the baseline, i.e. fedAvg with one client holding all the data\n",
      "round :  1\n",
      "round :  2\n",
      "round :  3\n",
      "round :  4\n",
      "round :  5\n",
      "round :  6\n",
      "round :  7\n",
      "round :  8\n",
      "round :  9\n",
      "round :  10\n",
      "round :  11\n",
      "round :  12\n",
      "round :  13\n",
      "round :  14\n",
      "round :  15\n",
      "round :  16\n",
      "round :  17\n",
      "round :  18\n",
      "round :  19\n",
      "round :  20\n",
      "round :  21\n",
      "round :  22\n",
      "round :  23\n",
      "round :  24\n",
      "round :  25\n",
      "round :  26\n",
      "round :  27\n",
      "round :  28\n",
      "round :  29\n",
      "round :  30\n"
     ]
    }
   ],
   "source": [
    "\n",
    "\n",
    "\n",
    "# Run FedAvg with 1 client\n",
    "print(\"now training the baseline, i.e. fedAvg with one client holding all the data\")\n",
    "model = fedavg(datalist, T, K, gamma)"
   ]
  },
  {
   "cell_type": "code",
   "execution_count": null,
   "metadata": {},
   "outputs": [
    {
     "name": "stdout",
     "output_type": "stream",
     "text": [
      "0.8547250032424927\n"
     ]
    }
   ],
   "source": [
    "test_accuracy = evaluate(model, test_images, test_labels)\n",
    "print(test_accuracy)"
   ]
  },
  {
   "cell_type": "markdown",
   "metadata": {},
   "source": [
    "With n_clients"
   ]
  },
  {
   "cell_type": "code",
   "execution_count": 59,
   "metadata": {},
   "outputs": [],
   "source": [
    "n_clients = 10"
   ]
  },
  {
   "cell_type": "code",
   "execution_count": null,
   "metadata": {},
   "outputs": [
    {
     "name": "stderr",
     "output_type": "stream",
     "text": [
      "/var/folders/d3/rt0_cn150g5b70xsvpk7jf2w0000gn/T/ipykernel_19039/1609897440.py:6: DeprecationWarning: Conversion of an array with ndim > 0 to a scalar is deprecated, and will error in future. Ensure you extract a single element from your array before performing this operation. (Deprecated NumPy 1.25.)\n",
      "  by_writer[int(writer)].append(idx)\n"
     ]
    },
    {
     "name": "stdout",
     "output_type": "stream",
     "text": [
      "case with 10 clients, with feature distribution shift\n",
      "round :  1\n",
      "round :  2\n",
      "round :  3\n",
      "round :  4\n",
      "round :  5\n",
      "round :  6\n",
      "round :  7\n",
      "round :  8\n",
      "round :  9\n",
      "round :  10\n",
      "round :  11\n",
      "round :  12\n",
      "round :  13\n",
      "round :  14\n",
      "round :  15\n",
      "round :  16\n",
      "round :  17\n",
      "round :  18\n",
      "round :  19\n",
      "round :  20\n",
      "round :  21\n",
      "round :  22\n",
      "round :  23\n",
      "round :  24\n",
      "round :  25\n",
      "round :  26\n",
      "round :  27\n",
      "round :  28\n",
      "round :  29\n",
      "round :  30\n"
     ]
    }
   ],
   "source": [
    "datalist = make_femnist_datasets(X,y,train,n_clients)\n",
    "# Hyperparameters\n",
    "print(f\"case with {n_clients} clients, with feature distribution shift\")\n",
    "model = fedavg(datalist, T, K, gamma)"
   ]
  },
  {
   "cell_type": "code",
   "execution_count": 61,
   "metadata": {},
   "outputs": [
    {
     "name": "stdout",
     "output_type": "stream",
     "text": [
      "0.8424999713897705\n"
     ]
    }
   ],
   "source": [
    "test_accuracy = evaluate(model, test_images, test_labels)\n",
    "print(test_accuracy)"
   ]
  },
  {
   "cell_type": "markdown",
   "metadata": {},
   "source": [
    "# Labels Shift"
   ]
  },
  {
   "cell_type": "markdown",
   "metadata": {},
   "source": [
    "#### With Dirichlet distributions"
   ]
  },
  {
   "cell_type": "code",
   "execution_count": null,
   "metadata": {},
   "outputs": [],
   "source": [
    "n_clients = 10\n",
    "beta = 0.1 \n",
    "datalist = create_dirichlet_clients(X, y, n_clients, beta)"
   ]
  },
  {
   "cell_type": "code",
   "execution_count": null,
   "metadata": {},
   "outputs": [
    {
     "name": "stdout",
     "output_type": "stream",
     "text": [
      "case with 5 clients, beta=0.5 skewed distribution!\n",
      "round :  1\n",
      "round :  2\n",
      "round :  3\n",
      "round :  4\n",
      "round :  5\n",
      "round :  6\n",
      "round :  7\n",
      "round :  8\n",
      "round :  9\n",
      "round :  10\n",
      "round :  11\n",
      "round :  12\n",
      "round :  13\n",
      "round :  14\n",
      "round :  15\n",
      "round :  16\n",
      "round :  17\n",
      "round :  18\n",
      "round :  19\n",
      "round :  20\n",
      "round :  21\n",
      "round :  22\n",
      "round :  23\n",
      "round :  24\n",
      "round :  25\n",
      "round :  26\n",
      "round :  27\n",
      "round :  28\n",
      "round :  29\n",
      "round :  30\n"
     ]
    }
   ],
   "source": [
    "# Hyperparameters\n",
    "print(\"case with 5 clients, beta=0.5 skewed distribution!\")\n",
    "model = fedavg(datalist, T, K, gamma)"
   ]
  },
  {
   "cell_type": "code",
   "execution_count": null,
   "metadata": {},
   "outputs": [
    {
     "name": "stdout",
     "output_type": "stream",
     "text": [
      "0.7575500011444092\n"
     ]
    }
   ],
   "source": [
    "test_accuracy = evaluate(model, test_images, test_labels)\n",
    "print(test_accuracy)"
   ]
  },
  {
   "cell_type": "markdown",
   "metadata": {},
   "source": [
    "### MOON results"
   ]
  },
  {
   "cell_type": "code",
   "execution_count": null,
   "metadata": {},
   "outputs": [],
   "source": [
    "n_clients = 10\n",
    "beta = 0.1\n",
    "datalist = create_dirichlet_clients(X, y, n_clients, beta)"
   ]
  },
  {
   "cell_type": "code",
   "execution_count": null,
   "metadata": {},
   "outputs": [],
   "source": [
    "model, loss_curve = fedavg_moon(datalist, T, K, gamma, mu=0.5)\n"
   ]
  },
  {
   "cell_type": "code",
   "execution_count": null,
   "metadata": {},
   "outputs": [
    {
     "name": "stdout",
     "output_type": "stream",
     "text": [
      "0.9042999744415283\n"
     ]
    }
   ],
   "source": [
    "test_accuracy = evaluate(model, test_images, test_labels)\n",
    "print(test_accuracy)"
   ]
  },
  {
   "cell_type": "code",
   "execution_count": null,
   "metadata": {},
   "outputs": [],
   "source": []
  },
  {
   "cell_type": "markdown",
   "metadata": {},
   "source": [
    "# Features Shift"
   ]
  },
  {
   "cell_type": "code",
   "execution_count": null,
   "metadata": {},
   "outputs": [
    {
     "name": "stdout",
     "output_type": "stream",
     "text": [
      "case with 10 clients, with feature distribution shift\n",
      "round :  1\n",
      "round :  2\n",
      "round :  3\n",
      "round :  4\n",
      "round :  5\n",
      "round :  6\n",
      "round :  7\n",
      "round :  8\n",
      "round :  9\n",
      "round :  10\n",
      "round :  11\n",
      "round :  12\n",
      "round :  13\n",
      "round :  14\n",
      "round :  15\n",
      "round :  16\n",
      "round :  17\n",
      "round :  18\n",
      "round :  19\n",
      "round :  20\n",
      "round :  21\n",
      "round :  22\n",
      "round :  23\n",
      "round :  24\n",
      "round :  25\n",
      "round :  26\n",
      "round :  27\n",
      "round :  28\n",
      "round :  29\n",
      "round :  30\n"
     ]
    }
   ],
   "source": [
    "n_clients = 10\n",
    "datalist = make_femnist_datasets(X,y,train,n_clients)\n",
    "# Hyperparameters\n",
    "T = 30       # number of global rounds\n",
    "K = 5      # number of client GD steps\n",
    "gamma = 0.05 # learning rate\n",
    "print(f\"case with {n_clients} clients, with feature distribution shift\")\n",
    "model = fedavg(datalist, T, K, gamma)"
   ]
  },
  {
   "cell_type": "code",
   "execution_count": 47,
   "metadata": {},
   "outputs": [
    {
     "name": "stdout",
     "output_type": "stream",
     "text": [
      "Test Accuracy with 10 ): 84.46%\n"
     ]
    }
   ],
   "source": [
    "test_accuracy = evaluate(model, test_images, test_labels)\n",
    "print(f\"Test Accuracy with {n_clients} ): {test_accuracy * 100:.2f}%\")"
   ]
  },
  {
   "cell_type": "code",
   "execution_count": 50,
   "metadata": {},
   "outputs": [],
   "source": [
    "def fedavg_disk(datalist, alphas_list, client_sizes, T, K, gamma):\n",
    "    \"\"\"\n",
    "    Perform FedAvg with data-size weighting and sample-weighted loss.\n",
    "\n",
    "    Args:\n",
    "      datalist: list of tuples (X_tensor, y_tensor) per client\n",
    "      alphas_list: list of alpha tensors (shape same as y_tensor) per client\n",
    "      client_sizes: list of int N_k for each client (length K)\n",
    "      T: number of communication rounds\n",
    "      K: number of local GD steps per client per round\n",
    "      gamma: learning rate for local updates\n",
    "\n",
    "    Returns:\n",
    "      global_model: trained global PyTorch model\n",
    "    \"\"\"\n",
    "    n_clients = len(datalist)\n",
    "    total_samples = sum(client_sizes)\n",
    "    # Initialize global model\n",
    "    global_model = SimpleNN()\n",
    "    global_state = global_model.state_dict()\n",
    "\n",
    "    # Precompute weights N_k / N\n",
    "    weights = [Nk / total_samples for Nk in client_sizes]\n",
    "\n",
    "    for t in range(1, T + 1):\n",
    "        local_states = []\n",
    "        # Broadcast & local training\n",
    "        for i in range(n_clients):\n",
    "            client_model = SimpleNN()\n",
    "            client_model.load_state_dict(deepcopy(global_state))\n",
    "            X_i, y_i = datalist[i]\n",
    "            alpha_i = alphas_list[i]\n",
    "            # Ensure data on same device as model\n",
    "            X_i = torch.tensor(X_i, dtype=torch.float32)\n",
    "            y_i = torch.tensor(y_i, dtype=torch.long)\n",
    "                        # 3c) Clip & renormalize α to avoid extremely large weights\n",
    "            if not isinstance(alpha_i, torch.Tensor):\n",
    "                alpha_i = torch.tensor(alpha_i, dtype=torch.float32)\n",
    "            alpha_i = torch.clamp(alpha_i, max=10.0)         # clip step\n",
    "            alpha_i = alpha_i * (len(alpha_i) / alpha_i.sum())         # now sum(alpha_i)== N_k\n",
    "            # Perform K local steps\n",
    "            updated_model = client_update(client_model, X_i, y_i, alpha_i, K, gamma)\n",
    "            local_states.append(deepcopy(updated_model.state_dict()))\n",
    "\n",
    "        # Aggregate weighted by client_sizes\n",
    "        new_global_state = deepcopy(global_state)\n",
    "        for key in global_state.keys():\n",
    "            # Weighted sum of parameters\n",
    "            new_global_state[key] = sum(weights[i] * local_states[i][key] for i in range(n_clients))\n",
    "        global_state = new_global_state\n",
    "        global_model.load_state_dict(global_state)\n",
    "\n",
    "    return global_model"
   ]
  },
  {
   "cell_type": "code",
   "execution_count": 51,
   "metadata": {},
   "outputs": [
    {
     "name": "stdout",
     "output_type": "stream",
     "text": [
      "case with 10 clients, with feature distribution shift\n"
     ]
    }
   ],
   "source": [
    "# 1) Create MADE data loaders (unchanged)\n",
    "made_loaders = [\n",
    "    DataLoader(\n",
    "        TensorDataset(\n",
    "            torch.tensor(X, dtype=torch.float32),\n",
    "            torch.zeros(len(X), dtype=torch.float32)\n",
    "        ),\n",
    "        batch_size=64,\n",
    "        shuffle=True\n",
    "    )\n",
    "    for X, _ in datalist\n",
    "]\n",
    "\n",
    "# 2) Train global MADE (unchanged)\n",
    "global_made = train_global_made(\n",
    "    made_loaders,\n",
    "    dim=28*28,\n",
    "    hid=100,\n",
    "    rounds=T,\n",
    "    local_epochs=1\n",
    ")\n",
    "\n",
    "# 3) Compute sample-weights α for each client (unchanged)\n",
    "sample_weights = []\n",
    "for ld in made_loaders:\n",
    "    local_made = MADE(28*28, 100)\n",
    "    local_state = train_local_made(local_made, ld, epochs=1)\n",
    "    local_made.load_state_dict(local_state)\n",
    "\n",
    "    alpha = compute_sample_weights(global_made, local_made, ld)\n",
    "    # alpha is a FloatTensor of shape [n_samples] for this client\n",
    "    sample_weights.append(alpha)\n",
    "\n",
    "# ─────────────────────────────────────────────────────────────────────────────\n",
    "# 4) Instead of oversampling, just record:\n",
    "#      - alphas_list (one α-tensor per client)\n",
    "#      - client_sizes (one integer per client)\n",
    "#    and leave datalist as-is.\n",
    "\n",
    "alphas_list = sample_weights                  # list of length n_clients, each α has shape (N_k,)\n",
    "client_sizes = [ len(y) for (_, y) in datalist ]  # e.g. [N_1, N_2, ..., N_K]\n",
    "\n",
    "# 5) Call the new fedavg signature directly on (X,y), alphas_list, and client_sizes\n",
    "print(f\"case with {len(datalist)} clients, with feature distribution shift\")\n",
    "model = fedavg_disk(\n",
    "    datalist,       # unchanged: [(X1, y1), (X2, y2), …]\n",
    "    alphas_list,    # per-sample weights from Phase 1\n",
    "    client_sizes,   # [len(y1), len(y2), …]\n",
    "    T, K, gamma\n",
    ")"
   ]
  },
  {
   "cell_type": "code",
   "execution_count": 52,
   "metadata": {},
   "outputs": [
    {
     "name": "stdout",
     "output_type": "stream",
     "text": [
      "Test Accuracy with 10 ): 89.84%\n"
     ]
    }
   ],
   "source": [
    "# Evaluate\n",
    "test_accuracy = evaluate(model, test_images, test_labels)\n",
    "print(f\"Test Accuracy with {n_clients} ): {test_accuracy * 100:.2f}%\")"
   ]
  },
  {
   "cell_type": "code",
   "execution_count": null,
   "metadata": {},
   "outputs": [],
   "source": []
  },
  {
   "cell_type": "code",
   "execution_count": null,
   "metadata": {},
   "outputs": [],
   "source": []
  }
 ],
 "metadata": {
  "kernelspec": {
   "display_name": "base",
   "language": "python",
   "name": "python3"
  },
  "language_info": {
   "codemirror_mode": {
    "name": "ipython",
    "version": 3
   },
   "file_extension": ".py",
   "mimetype": "text/x-python",
   "name": "python",
   "nbconvert_exporter": "python",
   "pygments_lexer": "ipython3",
   "version": "3.12.7"
  }
 },
 "nbformat": 4,
 "nbformat_minor": 2
}
