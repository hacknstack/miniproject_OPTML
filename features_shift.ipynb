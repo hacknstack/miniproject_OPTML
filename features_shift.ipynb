{
 "cells": [
  {
   "cell_type": "code",
   "execution_count": 1,
   "id": "ff48ec6a-8760-4059-93d8-3941b871a991",
   "metadata": {},
   "outputs": [],
   "source": [
    "from scipy.io import loadmat\n",
    "from utils import *\n",
    "data = loadmat('emnist-digits.mat')"
   ]
  },
  {
   "cell_type": "code",
   "execution_count": 2,
   "id": "00905d30-b071-4b7d-99b1-64266e8e742b",
   "metadata": {},
   "outputs": [],
   "source": [
    "import matplotlib.pyplot as plt\n",
    "import numpy as np\n"
   ]
  },
  {
   "cell_type": "code",
   "execution_count": 3,
   "id": "38e6610d-be6a-4158-86a4-1d35b573b187",
   "metadata": {},
   "outputs": [],
   "source": [
    "dataset = data['dataset'][0, 0]\n",
    "train = dataset[0][0, 0]  \n",
    "test = dataset[1][0, 0]  \n",
    "mapping = dataset[2]\n",
    "\n",
    "train_images = train['images']   # Shape: (N, 28*28)\n",
    "train_labels = train['labels']  # Shape: (N, 1)\n",
    "train_writers = train['writers']"
   ]
  },
  {
   "cell_type": "code",
   "execution_count": 4,
   "id": "2c1ac81f-7f12-4a1e-8f3e-0f4283a3f5a1",
   "metadata": {},
   "outputs": [],
   "source": [
    "X = train_images.astype(np.float32) / 255.0  # Normalize to [0, 1]\n",
    "y = train_labels.flatten().astype(np.int64)\n",
    "\n",
    "# Wrap into a datalist with a single client\n",
    "datalist = [(X, y)]\n",
    "\n",
    "test_images = test['images'].astype(np.float32) / 255.0\n",
    "test_labels = test['labels'].flatten().astype(np.int64)\n"
   ]
  },
  {
   "cell_type": "code",
   "execution_count": 5,
   "id": "4743019e-e2f3-4781-bc86-4c8b80b7ed9b",
   "metadata": {},
   "outputs": [],
   "source": [
    "from features_utils import *"
   ]
  },
  {
   "cell_type": "code",
   "execution_count": 6,
   "id": "2101a5e3",
   "metadata": {},
   "outputs": [
    {
     "name": "stdout",
     "output_type": "stream",
     "text": [
      "case with 30 clients, with feature distribution shift\n",
      "round :  1\n",
      "round :  2\n",
      "round :  3\n",
      "round :  4\n",
      "round :  5\n"
     ]
    }
   ],
   "source": [
    "n_clients = 30\n",
    "datalist = make_femnist_datasets(X,y,train,n_clients)\n",
    "# Hyperparameters\n",
    "T = 5       # number of global rounds\n",
    "K = 10      # number of client GD steps\n",
    "gamma = 0.1 # learning rate\n",
    "print(f\"case with {n_clients} clients, with feature distribution shift\")\n",
    "model = fedavg(datalist, T, K, gamma)\n"
   ]
  },
  {
   "cell_type": "code",
   "execution_count": 7,
   "id": "efc52e38",
   "metadata": {},
   "outputs": [
    {
     "name": "stdout",
     "output_type": "stream",
     "text": [
      "Test Accuracy with 30 ): 84.90%\n"
     ]
    }
   ],
   "source": [
    "# Evaluate\n",
    "test_accuracy = evaluate(model, test_images, test_labels)\n",
    "print(f\"Test Accuracy with {n_clients} ): {test_accuracy * 100:.2f}%\")"
   ]
  },
  {
   "cell_type": "code",
   "execution_count": 8,
   "id": "91284664",
   "metadata": {},
   "outputs": [
    {
     "name": "stdout",
     "output_type": "stream",
     "text": [
      "case with 30 clients, with feature distribution shift\n",
      "round :  1\n",
      "round :  2\n",
      "round :  3\n",
      "round :  4\n",
      "round :  5\n"
     ]
    }
   ],
   "source": [
    "\n",
    "\n",
    "n_clients = 30\n",
    "datalist = make_femnist_datasets(X,y,train,n_clients)\n",
    "\n",
    "# Hyperparameters\n",
    "T = 5       # number of global rounds\n",
    "K = 10      # number of client GD steps\n",
    "gamma = 0.1 # learning rate\n",
    "\n",
    "# 1) Create MADE data loaders\n",
    "made_loaders = [\n",
    "    DataLoader(\n",
    "        TensorDataset(\n",
    "            torch.tensor(X, dtype=torch.float32),\n",
    "            torch.zeros(len(X), dtype=torch.float32)\n",
    "        ),\n",
    "        batch_size=64,\n",
    "        shuffle=True\n",
    "    )\n",
    "    for X, _ in datalist\n",
    "]\n",
    "\n",
    "# 2) Train global MADE\n",
    "global_made = train_global_made(\n",
    "    made_loaders,\n",
    "    dim=28*28,\n",
    "    hid=100,\n",
    "    rounds=T,\n",
    "    local_epochs=1\n",
    ")\n",
    "\n",
    "# 3) Compute sample‐weights α for each client\n",
    "sample_weights = []\n",
    "for ld in made_loaders:\n",
    "    # train local MADE and load its weights\n",
    "    local_made = MADE(28*28, 100)\n",
    "    local_state = train_local_made(local_made, ld, epochs=1)\n",
    "    local_made.load_state_dict(local_state)\n",
    "\n",
    "    # compute α for this client (Tensor of shape [n_samples])\n",
    "    alpha = compute_sample_weights(global_made, local_made, ld)\n",
    "    sample_weights.append(alpha)\n",
    "\n",
    "# 4) Build weighted datasets by oversampling\n",
    "weighted_datalist = []\n",
    "for (Xi, yi), a in zip(datalist, sample_weights):\n",
    "    # normalize and scale to counts, then convert to numpy ints\n",
    "    counts = (a / a.sum() * len(yi)).cpu().numpy().astype(int)\n",
    "    idxs = np.repeat(np.arange(len(yi)), counts)\n",
    "    weighted_datalist.append((Xi[idxs], yi[idxs]))\n",
    "\n",
    "# 5) Federated training on weighted data\n",
    "print(f\"case with {n_clients} clients, with feature distribution shift\")\n",
    "model = fedavg(weighted_datalist, T, K, gamma)\n"
   ]
  },
  {
   "cell_type": "code",
   "execution_count": 9,
   "id": "592b7450",
   "metadata": {},
   "outputs": [
    {
     "name": "stdout",
     "output_type": "stream",
     "text": [
      "Test Accuracy with 30 ): 84.10%\n"
     ]
    }
   ],
   "source": [
    "\n",
    "test_accuracy = evaluate(model, test_images, test_labels)\n",
    "print(f\"Test Accuracy with {n_clients} ): {test_accuracy * 100:.2f}%\")"
   ]
  }
 ],
 "metadata": {
  "kernelspec": {
   "display_name": "Python [conda env:base] *",
   "language": "python",
   "name": "conda-base-py"
  },
  "language_info": {
   "codemirror_mode": {
    "name": "ipython",
    "version": 3
   },
   "file_extension": ".py",
   "mimetype": "text/x-python",
   "name": "python",
   "nbconvert_exporter": "python",
   "pygments_lexer": "ipython3",
   "version": "3.12.7"
  }
 },
 "nbformat": 4,
 "nbformat_minor": 5
}
